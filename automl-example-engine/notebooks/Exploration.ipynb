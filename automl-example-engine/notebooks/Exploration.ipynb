{
 "cells": [
  {
   "cell_type": "code",
   "execution_count": 2,
   "metadata": {},
   "outputs": [],
   "source": [
    "import unicodedata\n",
    "\n",
    "import joblib\n",
    "import pandas as pd\n",
    "from nltk.corpus import stopwords\n",
    "\n",
    "def remove_nonlatin(string):\n",
    "    new_chars = []\n",
    "    for char in string:\n",
    "        if char == '\\n':\n",
    "            new_chars.append(' ')\n",
    "            continue\n",
    "        try:\n",
    "            if unicodedata.name(char).startswith(('LATIN', 'SPACE')):\n",
    "                new_chars.append(char)\n",
    "        except:\n",
    "            continue\n",
    "    return ''.join(new_chars)\n",
    "\n",
    "def pre_processor(text):\n",
    "    stops = set(stopwords.words(\"portuguese\"))\n",
    "    text = remove_nonlatin(text)\n",
    "    words = text.lower().split()\n",
    "    words = ' '.join([w for w in words if not w in stops])\n",
    "    return words\n",
    "\n",
    "def prepare_data(dataset):\n",
    "    df = pd.read_csv(dataset, sep=';')\n",
    "    df.descricao = df.descricao.str.replace('Produto Novo', '')\n",
    "    df.dropna(inplace=True)\n",
    "    df['nome_desc'] = df.nome + ' ' + df.descricao\n",
    "    df.nome_desc = df.nome_desc.apply(pre_processor)\n",
    "    df.drop(['nome','descricao'], axis=1, inplace=True)\n",
    "    return df\n",
    "\n"
   ]
  },
  {
   "cell_type": "code",
   "execution_count": 3,
   "metadata": {},
   "outputs": [],
   "source": [
    "df = pd.read_csv(\"https://s3.amazonaws.com/automl-example/produtos.csv\", sep=\";\")"
   ]
  },
  {
   "cell_type": "code",
   "execution_count": 4,
   "metadata": {},
   "outputs": [],
   "source": [
    "data = prepare_data(\"https://s3.amazonaws.com/automl-example/produtos.csv\")"
   ]
  },
  {
   "cell_type": "code",
   "execution_count": 5,
   "metadata": {},
   "outputs": [
    {
     "data": {
      "text/html": [
       "<div>\n",
       "<style>\n",
       "    .dataframe thead tr:only-child th {\n",
       "        text-align: right;\n",
       "    }\n",
       "\n",
       "    .dataframe thead th {\n",
       "        text-align: left;\n",
       "    }\n",
       "\n",
       "    .dataframe tbody tr th {\n",
       "        vertical-align: top;\n",
       "    }\n",
       "</style>\n",
       "<table border=\"1\" class=\"dataframe\">\n",
       "  <thead>\n",
       "    <tr style=\"text-align: right;\">\n",
       "      <th></th>\n",
       "      <th>categoria</th>\n",
       "      <th>nome_desc</th>\n",
       "    </tr>\n",
       "  </thead>\n",
       "  <tbody>\n",
       "    <tr>\n",
       "      <th>169</th>\n",
       "      <td>livro</td>\n",
       "      <td>enfield real sobrenatural entalhes madeira é p...</td>\n",
       "    </tr>\n",
       "    <tr>\n",
       "      <th>2682</th>\n",
       "      <td>maquiagem</td>\n",
       "      <td>pinceis kabuki grande pincel maquiagem kit c u...</td>\n",
       "    </tr>\n",
       "    <tr>\n",
       "      <th>2095</th>\n",
       "      <td>maquiagem</td>\n",
       "      <td>cílios postiço fio fio seda b c d mix diversas...</td>\n",
       "    </tr>\n",
       "    <tr>\n",
       "      <th>474</th>\n",
       "      <td>livro</td>\n",
       "      <td>livro cemitério stephen king louis creed jovem...</td>\n",
       "    </tr>\n",
       "    <tr>\n",
       "      <th>2552</th>\n",
       "      <td>maquiagem</td>\n",
       "      <td>kit designer sobrancelha profissional universa...</td>\n",
       "    </tr>\n",
       "  </tbody>\n",
       "</table>\n",
       "</div>"
      ],
      "text/plain": [
       "      categoria                                          nome_desc\n",
       "169       livro  enfield real sobrenatural entalhes madeira é p...\n",
       "2682  maquiagem  pinceis kabuki grande pincel maquiagem kit c u...\n",
       "2095  maquiagem  cílios postiço fio fio seda b c d mix diversas...\n",
       "474       livro  livro cemitério stephen king louis creed jovem...\n",
       "2552  maquiagem  kit designer sobrancelha profissional universa..."
      ]
     },
     "execution_count": 5,
     "metadata": {},
     "output_type": "execute_result"
    }
   ],
   "source": [
    "data.sample(5)"
   ]
  },
  {
   "cell_type": "code",
   "execution_count": 6,
   "metadata": {},
   "outputs": [],
   "source": [
    "import joblib\n",
    "\n",
    "import autosklearn.classification as automl\n",
    "from sklearn.preprocessing import LabelEncoder\n",
    "from sklearn.model_selection import train_test_split\n",
    "from sklearn.feature_extraction.text import CountVectorizer\n",
    "\n",
    "def train(df, fit_file):\n",
    "    print(\"Training...\")\n",
    "    train_size = 0.75\n",
    "    vectorizer = CountVectorizer(\n",
    "        analyzer=\"word\",\n",
    "        tokenizer=None,\n",
    "        preprocessor=None,\n",
    "        stop_words=None\n",
    "    )\n",
    "    clf = automl.AutoSklearnClassifier(\n",
    "        include_preprocessors=[\"no_preprocessing\",],\n",
    "        exclude_preprocessors=None\n",
    "    )\n",
    "    encoder = LabelEncoder()\n",
    "\n",
    "    y = df.categoria\n",
    "    y = encoder.fit_transform(y)\n",
    "\n",
    "    X = vectorizer.fit_transform(df.nome_desc)\n",
    "\n",
    "    X_train, X_test, y_train, y_test = train_test_split(\n",
    "        X, y, train_size=train_size\n",
    "    )\n",
    "    clf.fit(X_train, y_train)\n",
    "\n",
    "    accuracy = clf.score(X_test, y_test)\n",
    "    msg = \"Accuracy with {:.0%} of testing data: {:.1%}\".format(1 - train_size, accuracy)\n",
    "    print(msg)\n",
    "    joblib.dump(clf, fit_file)\n",
    "    joblib.dump(encoder, 'encoder_%s' % fit_file)\n",
    "    joblib.dump(vectorizer, 'vectorizer_%s' % fit_file)"
   ]
  },
  {
   "cell_type": "code",
   "execution_count": 7,
   "metadata": {},
   "outputs": [
    {
     "name": "stdout",
     "output_type": "stream",
     "text": [
      "Training...\n"
     ]
    },
    {
     "name": "stderr",
     "output_type": "stream",
     "text": [
      "/home/rafael/.virtualenvs/automl-example-engine-env/lib/python3.5/site-packages/sklearn/model_selection/_split.py:2026: FutureWarning: From version 0.21, test_size will always complement train_size unless both are specified.\n",
      "  FutureWarning)\n"
     ]
    },
    {
     "name": "stdout",
     "output_type": "stream",
     "text": [
      "Accuracy with 25% of testing data: 98.4%\n"
     ]
    }
   ],
   "source": [
    "train(data, \"model\")"
   ]
  },
  {
   "cell_type": "code",
   "execution_count": 8,
   "metadata": {},
   "outputs": [],
   "source": [
    "def predict(text, fit_file='classifier.pkl'):\n",
    "    clf = joblib.load(fit_file)\n",
    "    vectorizer = joblib.load('vectorizer_%s' % fit_file)\n",
    "    encoder = joblib.load('encoder_%s' % fit_file)\n",
    "\n",
    "    text = pre_processor(text)\n",
    "    text = vectorizer.transform([text])\n",
    "    resp = clf.predict(text)[0]\n",
    "    resp = encoder.classes_[resp]\n",
    "    return resp"
   ]
  },
  {
   "cell_type": "code",
   "execution_count": 10,
   "metadata": {},
   "outputs": [
    {
     "data": {
      "text/plain": [
       "'livro'"
      ]
     },
     "execution_count": 10,
     "metadata": {},
     "output_type": "execute_result"
    }
   ],
   "source": [
    "predict('The Witcher III Wild Hunt: Edição Completa', 'model')"
   ]
  },
  {
   "cell_type": "code",
   "execution_count": 11,
   "metadata": {},
   "outputs": [
    {
     "data": {
      "text/plain": [
       "'game'"
      ]
     },
     "execution_count": 11,
     "metadata": {},
     "output_type": "execute_result"
    }
   ],
   "source": [
    "text = \"\"\"Torne-se um profissional assassino de monstros e embarque em uma aventura de \n",
    "proporções épicas! Após o seu lançamento, The Witcher 3: Wild Hunt tornou-se um clássico \n",
    "instantâneo, reivindicando mais de 250 prêmios Game of the Year. Agora você pode desfrutar \n",
    "desta enorme aventura, com mais de 100 horas de duração, de mundo aberto, juntamente com suas \n",
    "expansões que valem mais de 50 horas adicionais na história de jogo. Esta edição inclui todo o \n",
    "conteúdo adicional - novas armas, armaduras, roupas de acompanhante, novo modo de jogo e missões paralelas.\"\"\"\n",
    "\n",
    "predict(text, 'model')"
   ]
  },
  {
   "cell_type": "code",
   "execution_count": 14,
   "metadata": {},
   "outputs": [
    {
     "data": {
      "text/plain": [
       "AutoSklearnClassifier(delete_output_folder_after_terminate=True,\n",
       "           delete_tmp_folder_after_terminate=True,\n",
       "           disable_evaluator_output=False, ensemble_nbest=50,\n",
       "           ensemble_size=50, exclude_estimators=None,\n",
       "           exclude_preprocessors=None, get_smac_object_callback=None,\n",
       "           include_estimators=None,\n",
       "           include_preprocessors=['no_preprocessing'],\n",
       "           initial_configurations_via_metalearning=25,\n",
       "           ml_memory_limit=3072, output_folder=None,\n",
       "           per_run_time_limit=360, resampling_strategy='holdout',\n",
       "           resampling_strategy_arguments=None, seed=1, shared_mode=False,\n",
       "           smac_scenario_args=None, time_left_for_this_task=3600,\n",
       "           tmp_folder=None)"
      ]
     },
     "execution_count": 14,
     "metadata": {},
     "output_type": "execute_result"
    }
   ],
   "source": [
    "clf = joblib.load('model')\n",
    "clf"
   ]
  },
  {
   "cell_type": "code",
   "execution_count": 21,
   "metadata": {},
   "outputs": [
    {
     "name": "stdout",
     "output_type": "stream",
     "text": [
      "[(0.66000000000000003, SimpleClassificationPipeline({'preprocessor:__choice__': 'no_preprocessing', 'classifier:libsvm_svc:gamma': 0.08351549479967445, 'balancing:strategy': 'weighting', 'categorical_encoding:__choice__': 'one_hot_encoding', 'classifier:__choice__': 'libsvm_svc', 'classifier:libsvm_svc:C': 1255.9137433589424, 'categorical_encoding:one_hot_encoding:use_minimum_fraction': 'True', 'classifier:libsvm_svc:tol': 0.00017919875199222518, 'classifier:libsvm_svc:shrinking': 'True', 'categorical_encoding:one_hot_encoding:minimum_fraction': 0.004980497345831963, 'imputation:strategy': 'mean', 'classifier:libsvm_svc:max_iter': -1, 'classifier:libsvm_svc:kernel': 'rbf', 'rescaling:__choice__': 'normalize'},\n",
      "dataset_properties={\n",
      "  'multiclass': True,\n",
      "  'multilabel': False,\n",
      "  'signed': False,\n",
      "  'target_type': 'classification',\n",
      "  'sparse': True,\n",
      "  'task': 2})), (0.26000000000000001, SimpleClassificationPipeline({'preprocessor:__choice__': 'no_preprocessing', 'classifier:sgd:alpha': 2.0170980354931077e-06, 'balancing:strategy': 'none', 'categorical_encoding:__choice__': 'one_hot_encoding', 'classifier:__choice__': 'sgd', 'classifier:sgd:tol': 0.00013408101438414365, 'categorical_encoding:one_hot_encoding:use_minimum_fraction': 'False', 'classifier:sgd:learning_rate': 'optimal', 'classifier:sgd:loss': 'perceptron', 'classifier:sgd:fit_intercept': 'True', 'classifier:sgd:penalty': 'elasticnet', 'imputation:strategy': 'median', 'classifier:sgd:eta0': 0.07794475438783396, 'rescaling:__choice__': 'none', 'classifier:sgd:average': 'False', 'classifier:sgd:l1_ratio': 0.23810281540465794},\n",
      "dataset_properties={\n",
      "  'multiclass': True,\n",
      "  'multilabel': False,\n",
      "  'signed': False,\n",
      "  'target_type': 'classification',\n",
      "  'sparse': True,\n",
      "  'task': 2})), (0.040000000000000001, SimpleClassificationPipeline({'preprocessor:__choice__': 'no_preprocessing', 'classifier:sgd:alpha': 7.660169118217466e-07, 'balancing:strategy': 'none', 'categorical_encoding:__choice__': 'one_hot_encoding', 'classifier:__choice__': 'sgd', 'classifier:sgd:tol': 0.00011483072296312205, 'categorical_encoding:one_hot_encoding:use_minimum_fraction': 'False', 'classifier:sgd:learning_rate': 'optimal', 'classifier:sgd:loss': 'perceptron', 'classifier:sgd:fit_intercept': 'True', 'classifier:sgd:penalty': 'l1', 'imputation:strategy': 'median', 'classifier:sgd:eta0': 0.09947773482699214, 'rescaling:__choice__': 'none', 'classifier:sgd:average': 'False'},\n",
      "dataset_properties={\n",
      "  'multiclass': True,\n",
      "  'multilabel': False,\n",
      "  'signed': False,\n",
      "  'target_type': 'classification',\n",
      "  'sparse': True,\n",
      "  'task': 2})), (0.02, SimpleClassificationPipeline({'preprocessor:__choice__': 'no_preprocessing', 'classifier:sgd:alpha': 3.894157775639464e-06, 'balancing:strategy': 'none', 'categorical_encoding:__choice__': 'one_hot_encoding', 'classifier:__choice__': 'sgd', 'classifier:sgd:tol': 0.0029812959027790504, 'categorical_encoding:one_hot_encoding:use_minimum_fraction': 'False', 'classifier:sgd:learning_rate': 'optimal', 'classifier:sgd:loss': 'hinge', 'classifier:sgd:fit_intercept': 'True', 'classifier:sgd:penalty': 'l2', 'imputation:strategy': 'mean', 'classifier:sgd:eta0': 0.031128685223183437, 'rescaling:__choice__': 'normalize', 'classifier:sgd:average': 'False'},\n",
      "dataset_properties={\n",
      "  'multiclass': True,\n",
      "  'multilabel': False,\n",
      "  'signed': False,\n",
      "  'target_type': 'classification',\n",
      "  'sparse': True,\n",
      "  'task': 2})), (0.02, SimpleClassificationPipeline({'preprocessor:__choice__': 'no_preprocessing', 'classifier:liblinear_svc:C': 249.1063281596366, 'balancing:strategy': 'weighting', 'categorical_encoding:__choice__': 'no_encoding', 'classifier:__choice__': 'liblinear_svc', 'classifier:liblinear_svc:tol': 0.0006803042615300777, 'classifier:liblinear_svc:intercept_scaling': 1, 'classifier:liblinear_svc:loss': 'squared_hinge', 'classifier:liblinear_svc:dual': 'False', 'imputation:strategy': 'most_frequent', 'classifier:liblinear_svc:penalty': 'l2', 'classifier:liblinear_svc:multi_class': 'ovr', 'classifier:liblinear_svc:fit_intercept': 'True', 'rescaling:__choice__': 'normalize'},\n",
      "dataset_properties={\n",
      "  'multiclass': True,\n",
      "  'multilabel': False,\n",
      "  'signed': False,\n",
      "  'target_type': 'classification',\n",
      "  'sparse': True,\n",
      "  'task': 2}))]\n"
     ]
    }
   ],
   "source": [
    "print(clf.get_models_with_weights())"
   ]
  },
  {
   "cell_type": "code",
   "execution_count": null,
   "metadata": {},
   "outputs": [],
   "source": []
  }
 ],
 "metadata": {
  "kernelspec": {
   "display_name": "Python 3",
   "language": "python",
   "name": "python3"
  },
  "language_info": {
   "codemirror_mode": {
    "name": "ipython",
    "version": 3
   },
   "file_extension": ".py",
   "mimetype": "text/x-python",
   "name": "python",
   "nbconvert_exporter": "python",
   "pygments_lexer": "ipython3",
   "version": "3.5.2"
  }
 },
 "nbformat": 4,
 "nbformat_minor": 2
}
