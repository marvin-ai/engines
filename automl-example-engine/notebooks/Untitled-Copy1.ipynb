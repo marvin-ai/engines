{
 "cells": [
  {
   "cell_type": "code",
   "execution_count": 3,
   "metadata": {},
   "outputs": [
    {
     "name": "stderr",
     "output_type": "stream",
     "text": [
      "Downloading 20news dataset. This may take a few minutes.\n",
      "Downloading dataset from https://ndownloader.figshare.com/files/5975967 (14 MB)\n"
     ]
    }
   ],
   "source": [
    "from sklearn.datasets import fetch_20newsgroups\n",
    "\n",
    "categories = ['alt.atheism', 'soc.religion.christian', 'comp.graphics', 'sci.med']\n",
    "twenty_train = fetch_20newsgroups(subset='train', categories=categories, shuffle=True, random_state=42)"
   ]
  },
  {
   "cell_type": "code",
   "execution_count": 7,
   "metadata": {},
   "outputs": [],
   "source": [
    "from sklearn.pipeline import Pipeline\n",
    "from sklearn.linear_model import SGDClassifier\n",
    "\n",
    "text_clf = Pipeline([('vect', CountVectorizer()),\n",
    "                     ('tfidf', TfidfTransformer()),\n",
    "                     ('clf', SGDClassifier(loss='hinge', penalty='l2',\n",
    "                                           alpha=1e-3, random_state=42,\n",
    "                                           max_iter=5, tol=None)),\n",
    "])"
   ]
  },
  {
   "cell_type": "code",
   "execution_count": 11,
   "metadata": {},
   "outputs": [
    {
     "data": {
      "text/plain": [
       "0.9127829560585885"
      ]
     },
     "execution_count": 11,
     "metadata": {},
     "output_type": "execute_result"
    }
   ],
   "source": [
    "import numpy as np\n",
    "\n",
    "twenty_test = fetch_20newsgroups(subset='test', categories=categories, shuffle=True, random_state=42)\n",
    "\n",
    "text_clf.fit(twenty_train.data, twenty_train.target)\n",
    "predicted = text_clf.predict(twenty_test.data)\n",
    "np.mean(predicted == twenty_test.target)"
   ]
  },
  {
   "cell_type": "code",
   "execution_count": 12,
   "metadata": {},
   "outputs": [],
   "source": [
    "from sklearn.model_selection import GridSearchCV\n",
    "\n",
    "parameters = {'vect__ngram_range': [(1, 1), (1, 2)],\n",
    "              'tfidf__use_idf': (True, False),\n",
    "              'clf__alpha': (1e-2, 1e-3),\n",
    "}\n",
    "\n",
    "gs_clf = GridSearchCV(text_clf, parameters, n_jobs=-1)"
   ]
  },
  {
   "cell_type": "code",
   "execution_count": 14,
   "metadata": {},
   "outputs": [
    {
     "name": "stdout",
     "output_type": "stream",
     "text": [
      "CPU times: user 626 ms, sys: 64.6 ms, total: 691 ms\n",
      "Wall time: 19.4 s\n"
     ]
    }
   ],
   "source": [
    "%time gs_clf = gs_clf.fit(twenty_train.data[:1500], twenty_train.target[:1500])"
   ]
  },
  {
   "cell_type": "code",
   "execution_count": 18,
   "metadata": {},
   "outputs": [
    {
     "data": {
      "text/plain": [
       "0.95933333333333337"
      ]
     },
     "execution_count": 18,
     "metadata": {},
     "output_type": "execute_result"
    }
   ],
   "source": [
    "gs_clf.best_score_"
   ]
  },
  {
   "cell_type": "code",
   "execution_count": 15,
   "metadata": {},
   "outputs": [
    {
     "name": "stdout",
     "output_type": "stream",
     "text": [
      "Collecting sklearn-deap\n",
      "  Downloading https://files.pythonhosted.org/packages/c0/25/036417008f630f8c6f9ecde43030b525571e9a09c9267a039c47b3243270/sklearn-deap-0.2.2.tar.gz\n",
      "Requirement already satisfied: numpy>=1.9.3 in /home/rafael/.virtualenvs/automl-example-engine-env/lib/python3.5/site-packages (from sklearn-deap)\n",
      "Requirement already satisfied: scipy>=0.16.0 in /home/rafael/.virtualenvs/automl-example-engine-env/lib/python3.5/site-packages (from sklearn-deap)\n",
      "Collecting deap>=1.0.2 (from sklearn-deap)\n",
      "  Downloading https://files.pythonhosted.org/packages/af/29/e7f2ecbe02997b16a768baed076f5fc4781d7057cd5d9adf7c94027845ba/deap-1.2.2.tar.gz (936kB)\n",
      "\u001b[K    100% |████████████████████████████████| 942kB 244kB/s ta 0:00:01\n",
      "\u001b[?25hRequirement already satisfied: scikit-learn>=0.18.0 in /home/rafael/.virtualenvs/automl-example-engine-env/lib/python3.5/site-packages (from sklearn-deap)\n",
      "Building wheels for collected packages: sklearn-deap, deap\n",
      "  Running setup.py bdist_wheel for sklearn-deap ... \u001b[?25ldone\n",
      "\u001b[?25h  Stored in directory: /home/rafael/.cache/pip/wheels/f4/8c/dc/37182364e7eec60b7ca2f647f96fd94cca7e3af422a2d26913\n",
      "  Running setup.py bdist_wheel for deap ... \u001b[?25ldone\n",
      "\u001b[?25h  Stored in directory: /home/rafael/.cache/pip/wheels/22/ea/bf/dc7c8a2262025a0ab5da9ef02282c198be88902791ca0c6658\n",
      "Successfully built sklearn-deap deap\n",
      "Installing collected packages: deap, sklearn-deap\n",
      "Successfully installed deap-1.2.2 sklearn-deap-0.2.2\n",
      "\u001b[33mYou are using pip version 9.0.1, however version 10.0.1 is available.\n",
      "You should consider upgrading via the 'pip install --upgrade pip' command.\u001b[0m\n"
     ]
    }
   ],
   "source": [
    "!pip install sklearn-deap"
   ]
  },
  {
   "cell_type": "code",
   "execution_count": 25,
   "metadata": {},
   "outputs": [
    {
     "name": "stderr",
     "output_type": "stream",
     "text": [
      "/home/rafael/.virtualenvs/automl-example-engine-env/lib/python3.5/site-packages/deap/creator.py:141: RuntimeWarning: A class named 'FitnessMax' has already been created and it will be overwritten. Consider deleting previous creation of that class or rename it.\n",
      "  RuntimeWarning)\n",
      "/home/rafael/.virtualenvs/automl-example-engine-env/lib/python3.5/site-packages/deap/creator.py:141: RuntimeWarning: A class named 'Individual' has already been created and it will be overwritten. Consider deleting previous creation of that class or rename it.\n",
      "  RuntimeWarning)\n"
     ]
    }
   ],
   "source": [
    "from evolutionary_search import EvolutionaryAlgorithmSearchCV\n",
    "from sklearn.model_selection import StratifiedKFold\n",
    "\n",
    "cv = EvolutionaryAlgorithmSearchCV(estimator=text_clf,\n",
    "                                   params=parameters,\n",
    "                                   verbose=1,\n",
    "                                   population_size=50,\n",
    "                                   gene_mutation_prob=0.10,\n",
    "                                   gene_crossover_prob=0.5,\n",
    "                                   tournament_size=3,\n",
    "                                   generations_number=5,\n",
    "                                   n_jobs=4)"
   ]
  },
  {
   "cell_type": "code",
   "execution_count": 26,
   "metadata": {},
   "outputs": [
    {
     "name": "stdout",
     "output_type": "stream",
     "text": [
      "Types [1, 2, 1] and maxint [1, 1, 1] detected\n",
      "--- Evolve in 8 possible combinations ---\n",
      "gen\tnevals\tavg     \tmin     \tmax     \tstd      \n",
      "0  \t50    \t0.892013\t0.793333\t0.959333\t0.0572212\n",
      "1  \t29    \t0.929307\t0.793333\t0.959333\t0.032214 \n",
      "2  \t34    \t0.948373\t0.886   \t0.959333\t0.0209991\n",
      "3  \t37    \t0.957413\t0.915333\t0.959333\t0.00835293\n",
      "4  \t30    \t0.959333\t0.959333\t0.959333\t0         \n",
      "5  \t38    \t0.959333\t0.959333\t0.959333\t0         \n",
      "Best individual is: {'vect__ngram_range': (1, 1), 'clf__alpha': 0.001, 'tfidf__use_idf': True}\n",
      "with fitness: 0.9593333333333334\n",
      "CPU times: user 771 ms, sys: 89.8 ms, total: 861 ms\n",
      "Wall time: 4min 28s\n"
     ]
    }
   ],
   "source": [
    "%time cv.fit(twenty_train.data[:1500], twenty_train.target[:1500])"
   ]
  },
  {
   "cell_type": "code",
   "execution_count": null,
   "metadata": {},
   "outputs": [],
   "source": []
  }
 ],
 "metadata": {
  "kernelspec": {
   "display_name": "Python 3",
   "language": "python",
   "name": "python3"
  },
  "language_info": {
   "codemirror_mode": {
    "name": "ipython",
    "version": 3
   },
   "file_extension": ".py",
   "mimetype": "text/x-python",
   "name": "python",
   "nbconvert_exporter": "python",
   "pygments_lexer": "ipython3",
   "version": "3.5.2"
  }
 },
 "nbformat": 4,
 "nbformat_minor": 2
}
