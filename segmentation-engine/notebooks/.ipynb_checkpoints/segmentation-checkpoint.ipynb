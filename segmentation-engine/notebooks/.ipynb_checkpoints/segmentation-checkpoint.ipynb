{
 "cells": [
  {
   "cell_type": "markdown",
   "metadata": {},
   "source": [
    "# Documentation"
   ]
  },
  {
   "cell_type": "markdown",
   "metadata": {},
   "source": [
    "# Sample"
   ]
  },
  {
   "cell_type": "code",
   "execution_count": 1,
   "metadata": {},
   "outputs": [],
   "source": [
    "from marvin_python_toolbox.common.data import MarvinData"
   ]
  },
  {
   "cell_type": "code",
   "execution_count": 13,
   "metadata": {},
   "outputs": [],
   "source": [
    "import glob\n",
    "def read_samples(filename):\n",
    "    with open(filename, 'r') as fp:\n",
    "        samples = [line.strip().split() for line in fp.readlines()] \n",
    "    positive = [image for image, label in samples if int(label) == 1]\n",
    "    negative = [image for image, label in samples if int(label) == -1]\n",
    "    return {'positive': positive, 'negative': negative}\n",
    "    \n",
    "train = read_samples('/vagrant/projects/VOCdevkit/VOC2012/ImageSets/Main/aeroplane_train.txt')\n",
    "val = read_samples('/vagrant/projects/VOCdevkit/VOC2012/ImageSets/Main/aeroplane_val.txt')\n",
    "    \n",
    "initial_dataset = ((train, val))"
   ]
  },
  {
   "cell_type": "code",
   "execution_count": 14,
   "metadata": {},
   "outputs": [],
   "source": [
    "train, val = initial_dataset\n",
    "dataset = {'train': train, 'val': val}"
   ]
  },
  {
   "cell_type": "code",
   "execution_count": 24,
   "metadata": {},
   "outputs": [],
   "source": [
    "def build_model(n_classes=21, w=384, h=384, trainable=True):\n",
    "    model = Sequential()\n",
    "    model.add(Conv2D(64, kernel_size=(3, 3), padding='valid', activation='relu', name='conv1_1', \n",
    "                     input_shape=(w, h, 3)))\n",
    "    model.add(Conv2D(64, kernel_size=(3, 3), padding='same', activation='relu', name='conv1_2'))\n",
    "    model.add(MaxPooling2D((2, 2), strides=(2, 2)))\n",
    "\n",
    "    model.add(Conv2D(128, kernel_size=(3, 3), padding='same', activation='relu', name='conv2_1'))\n",
    "    model.add(Conv2D(128, kernel_size=(3, 3), padding='same', activation='relu', name='conv2_2'))\n",
    "    model.add(MaxPooling2D((2, 2), strides=(2, 2)))\n",
    "\n",
    "    model.add(Conv2D(256, kernel_size=(3, 3), padding='same', activation='relu', name='conv3_1'))\n",
    "    model.add(Conv2D(256, kernel_size=(3, 3), padding='same', activation='relu', name='conv3_2'))\n",
    "    model.add(Conv2D(256, kernel_size=(3, 3), padding='same', activation='relu', name='conv3_3'))\n",
    "    model.add(MaxPooling2D((2, 2), strides=(2, 2)))\n",
    "\n",
    "    model.add(Conv2D(512, kernel_size=(3, 3), padding='same', activation='relu', name='conv4_1'))\n",
    "    model.add(Conv2D(512, kernel_size=(3, 3), padding='same', activation='relu', name='conv4_2'))\n",
    "    model.add(Conv2D(512, kernel_size=(3, 3), padding='same', activation='relu', name='conv4_3'))\n",
    "\n",
    "#     model.add(Conv2D(512, (3, 3), padding='same', dilation_rate=(2, 2), activation='relu', name='conv5_1'))\n",
    "#     model.add(Conv2D(512, (3, 3), padding='same', dilation_rate=(2, 2), activation='relu', name='conv5_2'))\n",
    "#     model.add(Conv2D(512, (3, 3), padding='same', dilation_rate=(2, 2), activation='relu', name='conv5_3'))\n",
    "\n",
    "#     model.add(Conv2D(4096, (7, 7), padding='same', dilation_rate=(4, 4), activation='relu', name='fc6'))\n",
    "    model.add(Conv2D(4096, (7, 7), padding='same', activation='relu', name='fc6'))\n",
    "\n",
    "    model.add(Dropout(0.5))\n",
    "    model.add(Conv2D(4096, (1, 1), activation='relu', name='fc7'))\n",
    "    model.add(Dropout(0.5))\n",
    "\n",
    "    model.add(Conv2D(n_classes, (1, 1), activation='linear', name='fc-final-{}'.format(n_classes)))\n",
    "#     model.add(Conv2DTranspose(n_classes, (16, 16), strides=(1, 1), padding='same'))\n",
    "#     model.add(UpSampling2D(size=(8, 8)))\n",
    "\n",
    "    if trainable:\n",
    "        _, curr_width, curr_height, curr_channels = model.layers[-1].output_shape\n",
    "        model.add(Reshape((-1, curr_channels)))\n",
    "        model.add(Activation('softmax'))\n",
    "\n",
    "    print(model.summary())\n",
    "    return model"
   ]
  },
  {
   "cell_type": "code",
   "execution_count": 25,
   "metadata": {},
   "outputs": [],
   "source": [
    "import os\n",
    "import numpy as np\n",
    "import cv2\n",
    "from keras.layers import Activation, Reshape, Dropout\n",
    "from keras.layers import AtrousConvolution2D, Conv2D, MaxPooling2D, Conv2DTranspose, UpSampling2D\n",
    "from keras.models import Sequential\n",
    "from keras import callbacks, optimizers"
   ]
  },
  {
   "cell_type": "code",
   "execution_count": 26,
   "metadata": {},
   "outputs": [],
   "source": [
    "def generate_samples(image_path, label_path, fnames, w=384, h=384):\n",
    "    while True:\n",
    "        for fname in fnames:\n",
    "            image = cv2.imread(os.path.join(image_path, fname + '.jpg'))\n",
    "            image = cv2.resize(image, (w, h))\n",
    "            image = image[np.newaxis, :, :, (2, 1, 0)]  # [batch=1, w, h, 3]\n",
    "                \n",
    "            \n",
    "            label = cv2.imread(os.path.join(label_path, fname + '.png'), 0)\n",
    "            label = cv2.resize(label, (w, h))\n",
    "            label = label[np.newaxis, :, :, np.newaxis] # [batch=1, w, h, 1]\n",
    "            \n",
    "            yield (image, label)          "
   ]
  },
  {
   "cell_type": "code",
   "execution_count": 27,
   "metadata": {},
   "outputs": [
    {
     "name": "stdout",
     "output_type": "stream",
     "text": [
      "_________________________________________________________________\n",
      "Layer (type)                 Output Shape              Param #   \n",
      "=================================================================\n",
      "conv1_1 (Conv2D)             (None, 384, 384, 64)      1792      \n",
      "_________________________________________________________________\n",
      "conv1_2 (Conv2D)             (None, 384, 384, 64)      36928     \n",
      "_________________________________________________________________\n",
      "max_pooling2d_7 (MaxPooling2 (None, 192, 192, 64)      0         \n",
      "_________________________________________________________________\n",
      "conv2_1 (Conv2D)             (None, 192, 192, 128)     73856     \n",
      "_________________________________________________________________\n",
      "conv2_2 (Conv2D)             (None, 192, 192, 128)     147584    \n",
      "_________________________________________________________________\n",
      "max_pooling2d_8 (MaxPooling2 (None, 96, 96, 128)       0         \n",
      "_________________________________________________________________\n",
      "conv3_1 (Conv2D)             (None, 96, 96, 256)       295168    \n",
      "_________________________________________________________________\n",
      "conv3_2 (Conv2D)             (None, 96, 96, 256)       590080    \n",
      "_________________________________________________________________\n",
      "conv3_3 (Conv2D)             (None, 96, 96, 256)       590080    \n",
      "_________________________________________________________________\n",
      "max_pooling2d_9 (MaxPooling2 (None, 48, 48, 256)       0         \n",
      "_________________________________________________________________\n",
      "conv4_1 (Conv2D)             (None, 48, 48, 512)       1180160   \n",
      "_________________________________________________________________\n",
      "conv4_2 (Conv2D)             (None, 48, 48, 512)       2359808   \n",
      "_________________________________________________________________\n",
      "conv4_3 (Conv2D)             (None, 48, 48, 512)       2359808   \n",
      "_________________________________________________________________\n",
      "fc6 (Conv2D)                 (None, 48, 48, 4096)      102764544 \n",
      "_________________________________________________________________\n",
      "dropout_5 (Dropout)          (None, 48, 48, 4096)      0         \n",
      "_________________________________________________________________\n",
      "fc7 (Conv2D)                 (None, 48, 48, 4096)      16781312  \n",
      "_________________________________________________________________\n",
      "dropout_6 (Dropout)          (None, 48, 48, 4096)      0         \n",
      "_________________________________________________________________\n",
      "fc-final-21 (Conv2D)         (None, 48, 48, 21)        86037     \n",
      "=================================================================\n",
      "Total params: 127,267,157\n",
      "Trainable params: 127,267,157\n",
      "Non-trainable params: 0\n",
      "_________________________________________________________________\n",
      "None\n"
     ]
    }
   ],
   "source": [
    "model = build_model(trainable=False)\n",
    "model.compile(loss='sparse_categorical_crossentropy',\n",
    "              optimizer=optimizers.SGD(lr=0.001, momentum=0.9),\n",
    "              metrics=['accuracy'])"
   ]
  },
  {
   "cell_type": "code",
   "execution_count": null,
   "metadata": {},
   "outputs": [
    {
     "name": "stdout",
     "output_type": "stream",
     "text": [
      "Epoch 1/1\n"
     ]
    }
   ],
   "source": [
    "training_data = generate_samples('/vagrant/projects/VOCdevkit/VOC2012/JPEGImages/', \n",
    "                                 '/vagrant/projects/VOCdevkit/VOC2012/SegmentationClass/', \n",
    "                                  dataset['train'][:2])\n",
    "\n",
    "validation_data = generate_samples('/vagrant/projects/VOCdevkit/VOC2012/JPEGImages/', \n",
    "                                 '/vagrant/projects/VOCdevkit/VOC2012/SegmentationClass/', \n",
    "                                  dataset['val'][:2])\n",
    "\n",
    "model.fit_generator(training_data,\n",
    "                    steps_per_epoch=1,\n",
    "                    epochs=1,\n",
    "                    validation_data=validation_data,\n",
    "                    validation_steps=1)"
   ]
  },
  {
   "cell_type": "code",
   "execution_count": 66,
   "metadata": {},
   "outputs": [],
   "source": []
  }
 ],
 "metadata": {
  "kernelspec": {
   "display_name": "Python 2",
   "language": "python",
   "name": "python2"
  },
  "language_info": {
   "codemirror_mode": {
    "name": "ipython",
    "version": 2
   },
   "file_extension": ".py",
   "mimetype": "text/x-python",
   "name": "python",
   "nbconvert_exporter": "python",
   "pygments_lexer": "ipython2",
   "version": "2.7.6"
  }
 },
 "nbformat": 4,
 "nbformat_minor": 1
}
