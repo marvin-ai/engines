{
 "cells": [
  {
   "cell_type": "markdown",
   "metadata": {},
   "source": [
    "# Documentation"
   ]
  },
  {
   "cell_type": "markdown",
   "metadata": {},
   "source": [
    "# Sample"
   ]
  },
  {
   "cell_type": "code",
   "execution_count": 1,
   "metadata": {},
   "outputs": [],
   "source": [
    "from marvin_python_toolbox.common.data import MarvinData"
   ]
  },
  {
   "cell_type": "code",
   "execution_count": 2,
   "metadata": {},
   "outputs": [],
   "source": [
    "import glob\n",
    "def read_samples(filename):\n",
    "    with open(filename, 'r') as fp:\n",
    "        samples = [line.strip().split() for line in fp.readlines()] \n",
    "    positive = [image for image, label in samples if int(label) == 1]\n",
    "    negative = [image for image, label in samples if int(label) == -1]\n",
    "    return {'positive': positive, 'negative': negative}\n",
    "    \n",
    "train = read_samples('/vagrant/projects/VOCdevkit/VOC2012/ImageSets/Main/aeroplane_train.txt')\n",
    "val = read_samples('/vagrant/projects/VOCdevkit/VOC2012/ImageSets/Main/aeroplane_val.txt')\n",
    "    \n",
    "initial_dataset = ((train, val))"
   ]
  },
  {
   "cell_type": "code",
   "execution_count": 3,
   "metadata": {},
   "outputs": [],
   "source": [
    "train, val = initial_dataset\n",
    "dataset = {'train': train, 'val': val}"
   ]
  },
  {
   "cell_type": "code",
   "execution_count": 4,
   "metadata": {},
   "outputs": [
    {
     "name": "stderr",
     "output_type": "stream",
     "text": [
      "Using TensorFlow backend.\n"
     ]
    }
   ],
   "source": [
    "import os\n",
    "import numpy as np\n",
    "import cv2\n",
    "from keras.layers import Activation, Reshape, Dropout, Dense, Flatten\n",
    "from keras.layers import AtrousConvolution2D, Conv2D, MaxPooling2D, Conv2DTranspose, UpSampling2D\n",
    "from keras.models import Sequential\n",
    "from keras import callbacks, optimizers"
   ]
  },
  {
   "cell_type": "code",
   "execution_count": 5,
   "metadata": {},
   "outputs": [],
   "source": [
    "def build_model(w=150, h=150, trainable=True):\n",
    "    model = Sequential()\n",
    "    model.add(Conv2D(32, (3, 3), input_shape=(w, h, 3)))\n",
    "    model.add(Activation('relu'))\n",
    "    model.add(MaxPooling2D(pool_size=(2, 2)))\n",
    "\n",
    "    model.add(Conv2D(32, (3, 3)))\n",
    "    model.add(Activation('relu'))\n",
    "    model.add(MaxPooling2D(pool_size=(2, 2)))\n",
    "\n",
    "    model.add(Conv2D(64, (3, 3)))\n",
    "    model.add(Activation('relu'))\n",
    "    model.add(MaxPooling2D(pool_size=(2, 2)))\n",
    "\n",
    "    if trainable:\n",
    "        model.add(Flatten())  # this converts our 3D feature maps to 1D feature vectors\n",
    "        model.add(Dense(64))\n",
    "        model.add(Activation('relu'))\n",
    "        model.add(Dropout(0.5))\n",
    "        model.add(Dense(1))\n",
    "        model.add(Activation('softmax'))\n",
    "\n",
    "    print(model.summary())\n",
    "    return model"
   ]
  },
  {
   "cell_type": "code",
   "execution_count": 6,
   "metadata": {},
   "outputs": [
    {
     "name": "stdout",
     "output_type": "stream",
     "text": [
      "_________________________________________________________________\n",
      "Layer (type)                 Output Shape              Param #   \n",
      "=================================================================\n",
      "conv2d_1 (Conv2D)            (None, 148, 148, 32)      896       \n",
      "_________________________________________________________________\n",
      "activation_1 (Activation)    (None, 148, 148, 32)      0         \n",
      "_________________________________________________________________\n",
      "max_pooling2d_1 (MaxPooling2 (None, 74, 74, 32)        0         \n",
      "_________________________________________________________________\n",
      "conv2d_2 (Conv2D)            (None, 72, 72, 32)        9248      \n",
      "_________________________________________________________________\n",
      "activation_2 (Activation)    (None, 72, 72, 32)        0         \n",
      "_________________________________________________________________\n",
      "max_pooling2d_2 (MaxPooling2 (None, 36, 36, 32)        0         \n",
      "_________________________________________________________________\n",
      "conv2d_3 (Conv2D)            (None, 34, 34, 64)        18496     \n",
      "_________________________________________________________________\n",
      "activation_3 (Activation)    (None, 34, 34, 64)        0         \n",
      "_________________________________________________________________\n",
      "max_pooling2d_3 (MaxPooling2 (None, 17, 17, 64)        0         \n",
      "_________________________________________________________________\n",
      "flatten_1 (Flatten)          (None, 18496)             0         \n",
      "_________________________________________________________________\n",
      "dense_1 (Dense)              (None, 64)                1183808   \n",
      "_________________________________________________________________\n",
      "activation_4 (Activation)    (None, 64)                0         \n",
      "_________________________________________________________________\n",
      "dropout_1 (Dropout)          (None, 64)                0         \n",
      "_________________________________________________________________\n",
      "dense_2 (Dense)              (None, 1)                 65        \n",
      "_________________________________________________________________\n",
      "activation_5 (Activation)    (None, 1)                 0         \n",
      "=================================================================\n",
      "Total params: 1,212,513\n",
      "Trainable params: 1,212,513\n",
      "Non-trainable params: 0\n",
      "_________________________________________________________________\n",
      "None\n"
     ]
    }
   ],
   "source": [
    "model = build_model(trainable=True)\n",
    "model.compile(loss='binary_crossentropy',\n",
    "              optimizer=optimizers.SGD(lr=0.001, momentum=0.9),\n",
    "              metrics=['accuracy'])"
   ]
  },
  {
   "cell_type": "code",
   "execution_count": 9,
   "metadata": {},
   "outputs": [],
   "source": [
    "def generate_samples(image_path, label_path, fnames, w=150, h=150, bs=2):\n",
    "    indx = 0\n",
    "    while True:\n",
    "        for fname in fnames['positive']:\n",
    "            image = cv2.imread(os.path.join(image_path, fname + '.jpg'))\n",
    "            image = cv2.resize(image, (w, h))\n",
    "            image = image[np.newaxis, :, :, (2, 1, 0)]  # [batch=1, w, h, 3]\n",
    "                \n",
    "            label = np.array([1])\n",
    "           \n",
    "            yield (image, label)  \n",
    "            \n",
    "            if indx >= len(fnames['negative']):\n",
    "                indx = 0\n",
    "                \n",
    "            fname = fnames['negative'][indx]\n",
    "            image = cv2.imread(os.path.join(image_path, fname + '.jpg'))\n",
    "            image = cv2.resize(image, (w, h))\n",
    "            image = image[np.newaxis, :, :, (2, 1, 0)]  # [batch=1, w, h, 3]\n",
    "                \n",
    "            label = np.array([0])\n",
    "            \n",
    "            yield (image, label)\n",
    "            \n",
    "            indx += 1"
   ]
  },
  {
   "cell_type": "code",
   "execution_count": 10,
   "metadata": {},
   "outputs": [
    {
     "name": "stdout",
     "output_type": "stream",
     "text": [
      "Epoch 1/1\n",
      "2/2 [==============================] - 0s - loss: 7.9712 - acc: 0.5000 - val_loss: 1.1921e-07 - val_acc: 1.0000\n"
     ]
    },
    {
     "data": {
      "text/plain": [
       "<keras.callbacks.History at 0x7ff626aadcd0>"
      ]
     },
     "execution_count": 10,
     "metadata": {},
     "output_type": "execute_result"
    }
   ],
   "source": [
    "training_data = generate_samples('/vagrant/projects/VOCdevkit/VOC2012/JPEGImages/', \n",
    "                                 '/vagrant/projects/VOCdevkit/VOC2012/SegmentationClass/', \n",
    "                                  dataset['train'])\n",
    "\n",
    "validation_data = generate_samples('/vagrant/projects/VOCdevkit/VOC2012/JPEGImages/', \n",
    "                                 '/vagrant/projects/VOCdevkit/VOC2012/SegmentationClass/', \n",
    "                                  dataset['val'])\n",
    "\n",
    "model.fit_generator(training_data,\n",
    "                    steps_per_epoch=2,\n",
    "                    epochs=1,\n",
    "                    validation_data=validation_data,\n",
    "                    validation_steps=1)"
   ]
  },
  {
   "cell_type": "code",
   "execution_count": 11,
   "metadata": {},
   "outputs": [],
   "source": [
    "from sklearn import metrics as sk_metrics\n",
    "validation_data = generate_samples('/vagrant/projects/VOCdevkit/VOC2012/JPEGImages/', \n",
    "                                   '/vagrant/projects/VOCdevkit/VOC2012/SegmentationClass/', \n",
    "                                   dataset['val'])\n",
    "y_true = []\n",
    "y_pred = []\n",
    "for _ in range(3):\n",
    "    image, label = validation_data.next()\n",
    "    predicted = model.predict(image)\n",
    "    y_true.append(label)\n",
    "    y_pred.append(label)\n",
    "    \n",
    "metrics = {}\n",
    "metrics['model'] = sk_metrics.accuracy_score(y_true, y_pred)"
   ]
  },
  {
   "cell_type": "code",
   "execution_count": 14,
   "metadata": {},
   "outputs": [
    {
     "data": {
      "text/plain": [
       "array([[ 1.]], dtype=float32)"
      ]
     },
     "execution_count": 14,
     "metadata": {},
     "output_type": "execute_result"
    }
   ],
   "source": [
    "image = cv2.imread('/vagrant/projects/VOCdevkit/VOC2012/JPEGImages/2011_000165.jpg')\n",
    "image = cv2.resize(image, (150, 150))\n",
    "image = image[np.newaxis, :, :, (2, 1, 0)]\n",
    "model.predict(image)"
   ]
  },
  {
   "cell_type": "code",
   "execution_count": null,
   "metadata": {},
   "outputs": [],
   "source": []
  }
 ],
 "metadata": {
  "kernelspec": {
   "display_name": "Python 2",
   "language": "python",
   "name": "python2"
  },
  "language_info": {
   "codemirror_mode": {
    "name": "ipython",
    "version": 2
   },
   "file_extension": ".py",
   "mimetype": "text/x-python",
   "name": "python",
   "nbconvert_exporter": "python",
   "pygments_lexer": "ipython2",
   "version": "2.7.6"
  }
 },
 "nbformat": 4,
 "nbformat_minor": 1
}
